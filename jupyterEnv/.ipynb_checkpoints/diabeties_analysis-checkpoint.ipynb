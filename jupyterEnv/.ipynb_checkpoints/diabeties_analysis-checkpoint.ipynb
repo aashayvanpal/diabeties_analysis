{
 "cells": [
  {
   "cell_type": "code",
   "execution_count": null,
   "id": "3db7b36c",
   "metadata": {},
   "outputs": [],
   "source": [
    "# importing packages \n",
    "\n",
    "import numpy as np\n",
    "import pandas as pd \n",
    "import matplotlib.pyplot as plt\n",
    "import seaborn as sns \n"
   ]
  },
  {
   "cell_type": "code",
   "execution_count": null,
   "id": "bfbaeeb3",
   "metadata": {},
   "outputs": [],
   "source": [
    "\n",
    "# Reading the dataframe\n",
    "\n",
    "df = pd.read_csv('diabetes.csv')\n",
    "\n",
    "print(df.head())\n"
   ]
  }
 ],
 "metadata": {
  "kernelspec": {
   "display_name": "Python 3 (ipykernel)",
   "language": "python",
   "name": "python3"
  },
  "language_info": {
   "codemirror_mode": {
    "name": "ipython",
    "version": 3
   },
   "file_extension": ".py",
   "mimetype": "text/x-python",
   "name": "python",
   "nbconvert_exporter": "python",
   "pygments_lexer": "ipython3",
   "version": "3.8.10"
  }
 },
 "nbformat": 4,
 "nbformat_minor": 5
}
